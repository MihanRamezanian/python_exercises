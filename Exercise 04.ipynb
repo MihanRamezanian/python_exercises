{
 "cells": [
  {
   "cell_type": "markdown",
   "id": "b62d25ae",
   "metadata": {},
   "source": [
    "<img src=\"logo.png\" alt=\"Virak logo\" style=\"float:center; width:350px; margin-left:200px;\">"
   ]
  },
  {
   "cell_type": "markdown",
   "id": "592b393a",
   "metadata": {},
   "source": [
    "## **Exercise 04: Loop**\n",
    "### <span style=\"color:#FF4C29; font-weight:bold\">Question01</span>\n",
    "**Write a programm that recieves the name and price of five products from the user. The program should perform the following tasks:**\n",
    "- For each products, display its name and price.\n",
    "- If the price of a product is more than 500, lable it as \"Expensive\", otherwise lable it as \"Cheap\".\n",
    "- Calculate and display the average price of all products.\n",
    "- Identify and display the name and price of the cheapset product.\n",
    "- Identify and display the name and price of the most expensive product.\n"
   ]
  },
  {
   "cell_type": "code",
   "execution_count": null,
   "id": "b487b9ba",
   "metadata": {},
   "outputs": [],
   "source": [
    "# Question3(loop) \n",
    "\n",
    "number_of_product = 5\n",
    "max_price = 0\n",
    "min_price = 0\n",
    "sum_price = 0\n",
    "cheapest_product = ''\n",
    "expensive_product = ''\n",
    "for i in range(1,number_of_product+1):\n",
    "    product_name = input('enter product name:')\n",
    "    product_price = int(input('enter product price:'))\n",
    "\n",
    "    print(f'product {i} is {product_name} and its price is {product_price}')\n",
    "    \n",
    "    if product_price > 500 :\n",
    "         print(f'{product_name} is an expensive product')\n",
    "    else:\n",
    "        print(f'{product_name} is an cheap product')\n",
    "\n",
    "    sum_price += product_price\n",
    "\n",
    "    if product_price > max_price:\n",
    "        max_price = product_price\n",
    "        expensive_product = product_name\n",
    "    \n",
    "    if product_price < min_price or not(min_price):\n",
    "        min_price = product_price\n",
    "        cheapest_product = product_name\n",
    "    \n",
    "\n",
    "\n",
    "print(f'the cheapest product price is {min_price} and the product name is {cheapest_product}') \n",
    "print(f'the expensive product price is {max_price} and the product name is {expensive_product}')\n",
    "print(f'the average of total price is {sum_price//number_of_product}')"
   ]
  },
  {
   "cell_type": "code",
   "execution_count": null,
   "id": "593ab451",
   "metadata": {},
   "outputs": [],
   "source": []
  },
  {
   "cell_type": "markdown",
   "id": "9f78b451",
   "metadata": {},
   "source": [
    "### <span style=\"color:#FF4C29; font-weight:bold\">Question02</span>\n",
    " **Write a program that takes a number from the user and calculates its factorial**"
   ]
  },
  {
   "cell_type": "code",
   "execution_count": null,
   "id": "d6cccee2",
   "metadata": {},
   "outputs": [],
   "source": [
    "number = int(input('enter a number:'))\n",
    "factorial_number = 1\n",
    "for i in range(1,number+1):\n",
    "    factorial_number *= i\n",
    "print(f'factorial {number} is {factorial_number}')\n"
   ]
  },
  {
   "cell_type": "markdown",
   "id": "6b22c75d",
   "metadata": {},
   "source": [
    "### <span style=\"color:#FF4C29; font-weight:bold\">Question03</span>\n",
    "**Write a program that takes the names of five different files from the user and display how many of them have the .py extension.**"
   ]
  },
  {
   "cell_type": "code",
   "execution_count": null,
   "id": "47a5f61b",
   "metadata": {},
   "outputs": [],
   "source": [
    "count_py = 0\n",
    "number_files = 5\n",
    "for i in range(1,6):\n",
    "    name_files = input('enter file name:')\n",
    "    print(f'file {i} is {name_files}')\n",
    "    if name_files.endswith('.py'):\n",
    "        count_py += 1\n",
    "print(f'number of files with py extension is: {count_py}')\n"
   ]
  }
 ],
 "metadata": {
  "language_info": {
   "name": "python"
  }
 },
 "nbformat": 4,
 "nbformat_minor": 5
}
