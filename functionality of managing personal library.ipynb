{
 "cells": [
  {
   "cell_type": "code",
   "execution_count": 10,
   "id": "88761d5b",
   "metadata": {},
   "outputs": [
    {
     "name": "stdout",
     "output_type": "stream",
     "text": [
      "information book title a1 is : read status is True and author is / authors are ['ali', 'sara']\n",
      "author wer has not found\n"
     ]
    }
   ],
   "source": [
    "book_title = []\n",
    "author = []\n",
    "read_status = []\n",
    "authors_name = []\n",
    "author_index = []\n",
    "\n",
    "number_request = int(input('enter number of your request:')) \n",
    "\n",
    "for i in range(number_request):\n",
    "    request = input('enter your request or help:')\n",
    "    if request == 'add':\n",
    "        title = input('enter book title:')\n",
    "        add_title(title)\n",
    "\n",
    "    elif request == 'search':\n",
    "        search_title = input('enter your title search?')\n",
    "        authors_name = (input('enter author name:'))\n",
    "        search_book(search_title)\n",
    "        search_author(authors_name)\n",
    "\n",
    "    elif request == 'show':\n",
    "         show_information()\n",
    "\n",
    "    elif request == 'help':\n",
    "          help()\n",
    "        \n",
    "    \n",
    "    elif request =='exit':\n",
    "        break\n",
    "\n",
    "    else:\n",
    "        print('command not found.')  \n",
    "\n",
    "\n",
    "\n",
    "\n"
   ]
  },
  {
   "cell_type": "code",
   "execution_count": 2,
   "id": "5996877c",
   "metadata": {},
   "outputs": [],
   "source": [
    "def add_title(title):\n",
    "    if title in book_title:\n",
    "        return 'this title exist.'\n",
    "    else:\n",
    "        book_title.append(title)\n",
    "        result = add_author()\n",
    "        author.append(result)\n",
    "        result1 = read_not_read()\n",
    "        read_status.append(result1)\n",
    "        "
   ]
  },
  {
   "cell_type": "code",
   "execution_count": 3,
   "id": "453d5aec",
   "metadata": {},
   "outputs": [],
   "source": [
    "def add_author():\n",
    "    list_author = []\n",
    "    number_authors = int(input('enter number authors for this title'))\n",
    "    if number_authors == 1 :\n",
    "            list_author.append(input('enter author name.'))\n",
    "            return list_author\n",
    "    else:\n",
    "        for i in range(number_authors):\n",
    "             authors = input('enter authors name')\n",
    "             list_author.append(authors)\n",
    "        return list_author\n"
   ]
  },
  {
   "cell_type": "code",
   "execution_count": 4,
   "id": "762a79f4",
   "metadata": {},
   "outputs": [],
   "source": [
    "def read_not_read() :\n",
    "     read = input('if u read this title enter true else false?')\n",
    "     if read == 'true':\n",
    "          return True\n",
    "     else :\n",
    "          return False"
   ]
  },
  {
   "cell_type": "code",
   "execution_count": 5,
   "id": "ca80cb7f",
   "metadata": {},
   "outputs": [],
   "source": [
    "def search_book(search_title) :\n",
    "    if search_title in book_title:\n",
    "      idx = book_title.index(search_title)\n",
    "      print(f'information book title {search_title} is : read status is {read_status[idx]} and author is / authors are {author[idx]}')\n",
    "\n",
    "    else:\n",
    "        print(f'this {search_title} has not found.')  \n",
    "      \n",
    "    \n",
    "\n",
    "        "
   ]
  },
  {
   "cell_type": "code",
   "execution_count": 6,
   "id": "4cc31881",
   "metadata": {},
   "outputs": [],
   "source": [
    "def search_author(authors_name) :\n",
    "    flag = True\n",
    "    for i in range(len(author)):\n",
    "        if authors_name in author[i]:\n",
    "            author_index.append(i)\n",
    "        else :\n",
    "            flag = False\n",
    "            \n",
    "    if flag == False:\n",
    "        print(f'author {authors_name} has not found')\n",
    "    else:\n",
    "         for i in author_index:\n",
    "            print(f'{authors_name} is author for {book_title[i]}.')\n",
    "    "
   ]
  },
  {
   "cell_type": "code",
   "execution_count": 8,
   "id": "e4b8111c",
   "metadata": {},
   "outputs": [],
   "source": [
    "def show_information() :\n",
    "    total_books = 0\n",
    "    total_read_books = 0\n",
    "    total_unread_books = 0\n",
    "    for i in book_title:\n",
    "        print(f'book  {i}')\n",
    "        total_books += 1\n",
    "\n",
    "    for i in book_title:\n",
    "        idx = book_title.index(i)\n",
    "        if read_status[idx] == True:\n",
    "            print(f'book {book_title[idx]} is read.')\n",
    "            total_read_books += 1\n",
    "\n",
    "        else:\n",
    "             print(f'book {book_title[idx]} is unread.')\n",
    "             total_unread_books += 1\n",
    "\n",
    "    print(f'the total books are {total_books} and the total read books are {total_read_books} and the total unread books are {total_unread_books}')         \n",
    "    print(book_title,'\\n',author,'\\n',read_status )\n"
   ]
  },
  {
   "cell_type": "code",
   "execution_count": 9,
   "id": "47c24788",
   "metadata": {},
   "outputs": [],
   "source": [
    "def help() :\n",
    "    print('add --------> adding new book.')\n",
    "    print('search ------> by title or by author')                   \n",
    "    print('show --------->show the books and read/unread books and total books/read/unread books.')\n",
    "    print('exit ----------> for existing the program')"
   ]
  }
 ],
 "metadata": {
  "kernelspec": {
   "display_name": "Python 3",
   "language": "python",
   "name": "python3"
  },
  "language_info": {
   "codemirror_mode": {
    "name": "ipython",
    "version": 3
   },
   "file_extension": ".py",
   "mimetype": "text/x-python",
   "name": "python",
   "nbconvert_exporter": "python",
   "pygments_lexer": "ipython3",
   "version": "3.11.4"
  }
 },
 "nbformat": 4,
 "nbformat_minor": 5
}
