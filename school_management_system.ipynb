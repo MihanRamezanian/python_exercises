class SchoolSystem:
    def __init__(self):
        self.classes = {}
        self.student_counter = 0

    def add_new_class(self, class_name):
        if class_name in self.classes:
            print(f"Class '{class_name}' already exists.")
            return False
        self.classes[class_name] = {}
        print(f"Class '{class_name}' added successfully.")
        return True

    def generate_student_id(self):
        self.student_counter += 1
        return self.student_counter

    def add_student(self, class_name, first_name, last_name, gpa):
        if class_name not in self.classes:
            print(f"Class '{class_name}' does not exist.")
            return False
        student_id = self.generate_student_id()
        self.classes[class_name][student_id] = {
            'first_name': first_name,
            'last_name': last_name,
            'GPA': gpa
        }
        print(f"Student added with ID {student_id} to class '{class_name}'.")
        return student_id

    def remove_student(self, student_id, class_name):
        if class_name in self.classes and student_id in self.classes[class_name]:
            del self.classes[class_name][student_id]
            print(f"Student {student_id} removed from class '{class_name}'.")
            return True
        print(f"Student {student_id} not found in class '{class_name}'.")
        return False

    def edit_student(self, student_id, class_name, first_name=None, last_name=None, gpa=None):
        student = self.classes.get(class_name, {}).get(student_id)
        if not student:
            print(f"Student {student_id} not found in class '{class_name}'.")
            return False
        if first_name:
            student['first_name'] = first_name
        if last_name:
            student['last_name'] = last_name
        if gpa is not None:
            student['GPA'] = gpa
        print(f"Student {student_id} updated in class '{class_name}'.")
        return True

    def search_student(self, student_id, class_name):
        student = self.classes.get(class_name, {}).get(student_id)
        if student:
            print(f"Student found: {student}")
            return student
        print(f"Student {student_id} not found in class '{class_name}'.")
        return None

    def display(self):
        for class_name, students in self.classes.items():
            print(f"Class: {class_name}")
            for sid, info in students.items():
                print(f"  ID {sid}: {info}")

    def summary(self):
        num_classes = len(self.classes)
        num_students = sum(len(students) for students in self.classes.values())
        print(f"Total Classes: {num_classes}, Total Students: {num_students}")
        return num_classes, num_students
