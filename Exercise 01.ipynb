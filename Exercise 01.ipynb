{
 "cells": [
  {
   "cell_type": "markdown",
   "metadata": {},
   "source": [
    "<img src=\"logo.png\" alt=\"Virak logo\" style=\"float:center; width:350px; margin-left:200px;\">"
   ]
  },
  {
   "cell_type": "markdown",
   "metadata": {},
   "source": [
    "## **Exercise 01: Basics**\n",
    "### <span style=\"color:#FF4C29; font-weight:bold\">Question01</span>\n",
    " **for each of the following variables, try to cast them to the requested type. If the conversion is seccessful, write the resulting value. If not, explain why using a comment.**"
   ]
  },
  {
   "cell_type": "markdown",
   "metadata": {},
   "source": [
    "##### Convert to int"
   ]
  },
  {
   "cell_type": "code",
   "execution_count": null,
   "metadata": {},
   "outputs": [],
   "source": [
    "price = \"15.0\"\n",
    "code = \"007\"\n",
    "name = \"Alice\"\n",
    "is_active = True\n",
    "\n",
    "print(int(price))     ## خطا میگیرد چون به خاطر دات نمیتوان رشته ی اعشاری را مستقیم به صحیح تبدیل کرد\n",
    "print(int(code))      ## result = 7\n",
    "print(int(name))      ##خطا میگیرد چون رشته حرفی را نمیتوان به عدد صحیح تبدیل کرد\n",
    "print(int(is_active)) ## result = 1"
   ]
  },
  {
   "cell_type": "markdown",
   "metadata": {},
   "source": [
    "##### Convert to float"
   ]
  },
  {
   "cell_type": "code",
   "execution_count": null,
   "metadata": {},
   "outputs": [],
   "source": [
    "score = \"3.14\"\n",
    "amount = \"3,14\"\n",
    "value = \"NaN\"\n",
    "is_logged_in = False\n",
    "\n",
    "\n",
    "print(float(score))        ## result = 3.14\n",
    "print(float(amount))       ## خطا میگیرد چون کاما که یک کاراکتر رشته ای است نمیتواند به عدد تبدیل کند\n",
    "print(float(value))        ## result = nan (نتیجه عملیاتی بوده که نتوانسته یک عدد معتبر تولید کند)\n",
    "print(float(is_logged_in)) ## result = 0.0"
   ]
  },
  {
   "cell_type": "markdown",
   "metadata": {},
   "source": [
    "##### Convert to str"
   ]
  },
  {
   "cell_type": "code",
   "execution_count": null,
   "metadata": {},
   "outputs": [],
   "source": [
    "age = 12\n",
    "average_score = 17.5\n",
    "is_verified = True\n",
    "\n",
    "print(str(age))           ## result = '12'\n",
    "print(str(average_score)) ## '17.5'\n",
    "print(str(is_verified))   ## 'True'\n",
    "\n",
    "                          ## این نکته قابل ذکر است که هرنوع داده ای را میتوان به نوع رشته ای تبدیل کرد"
   ]
  },
  {
   "cell_type": "markdown",
   "metadata": {},
   "source": [
    "##### Convert to boolean"
   ]
  },
  {
   "cell_type": "code",
   "execution_count": null,
   "metadata": {},
   "outputs": [],
   "source": [
    "username = \"\"\n",
    "status = \"False\"\n",
    "comment = \" \"\n",
    "visits = 0\n",
    "\n",
    "print(bool(username)) ## result = False\n",
    "print(bool(status))   ## result = True\n",
    "print(bool(comment))  ## result = True\n",
    "print(bool(visits))   ## result = False"
   ]
  },
  {
   "cell_type": "markdown",
   "metadata": {},
   "source": [
    "### <span style=\"color:#FF4C29; font-weight:bold\">Question02</span>\n",
    "**Explain the result of the following codes step by step and write comment for that line by line**"
   ]
  },
  {
   "cell_type": "code",
   "execution_count": null,
   "metadata": {},
   "outputs": [],
   "source": [
    "price_str = \"120.5\"              #یک متغیر تعریف شده از نوع عدد رشته ای\n",
    "price = int(float(price_str))    #متغیر رشته ای  به خاطر وجود دات ابتدا به اعشار بعد به صحیح تبدیل شده\n",
    "print(\"price=\",price)            #price = 120"
   ]
  },
  {
   "cell_type": "code",
   "execution_count": null,
   "metadata": {},
   "outputs": [],
   "source": [
    "code = str(price) + \"0\"         #مقدار پرایس که 120 عددی بود به رشته تبدیل شده وبا 0 کانکت شده میشه 120\n",
    "print(\"code=\", code)            #code = '1200'"
   ]
  },
  {
   "cell_type": "code",
   "execution_count": null,
   "metadata": {},
   "outputs": [],
   "source": [
    "result = code + price_str      #مقدار متغیر کد که 1200 رشته ای بوده کانکت میشه با مقدار پرایس رشته ای 1200120.5\n",
    "print(\"result=\", result)       #result = '1200120.5'"
   ]
  },
  {
   "cell_type": "code",
   "execution_count": null,
   "metadata": {},
   "outputs": [],
   "source": [
    "final_price = float(result)        #مقدار ریزالت رشته ای را به اعشار تبدیل میکند\n",
    "print(\"final_price=\", final_price) #final_price = 1200120.5\n"
   ]
  },
  {
   "cell_type": "code",
   "execution_count": null,
   "metadata": {},
   "outputs": [],
   "source": [
    "discounted = int(final_price)     #قیمت نهائی که اعشار است به صحیح تبدیل میشود یعنی قسمت اعشار حذف میشود\n",
    "print(\"discounted=\", discounted)  #discounted = 1200120"
   ]
  },
  {
   "cell_type": "markdown",
   "metadata": {},
   "source": [
    "### <span style=\"color:#FF4C29; font-weight:bold\">Question03 </span>\n",
    "**Write a python program that takes two float numbers as input from the user. If both numbers are equal, print True. Otherwise, print False.**"
   ]
  },
  {
   "cell_type": "code",
   "execution_count": null,
   "metadata": {},
   "outputs": [],
   "source": [
    "number1 = float(input('enter  the first  number:'))\n",
    "number2 = float(input('enter  the second  number:'))\n",
    "print(number1 == number2) "
   ]
  },
  {
   "cell_type": "markdown",
   "metadata": {},
   "source": [
    "### <span style=\"color:#FF4C29; font-weight:bold\">Question04</span>\n",
    " **Write a python program that swaps the values of two variables.**"
   ]
  },
  {
   "cell_type": "code",
   "execution_count": null,
   "metadata": {},
   "outputs": [],
   "source": [
    "number3 = int(input('enter first number:'))\n",
    "number4 = int(input('enter second number:'))\n",
    "print('number3=',number3,'number4=',number4)\n",
    "temp = number3\n",
    "number3 = number4\n",
    "number4 = temp\n",
    "print('number3=',number3,'number4=',number4)\n",
    "\n",
    "\n",
    "\n",
    "#راه حل ساده پایتون\n",
    "number3,number4 = number4,number3"
   ]
  },
  {
   "cell_type": "markdown",
   "metadata": {},
   "source": [
    "### <span style=\"color:#FF4C29; font-weight:bold\">Question05</span>\n",
    "**Write a python program with the following variable assignments. Check the output for each one. If there's no error, comment on what the code does. If there's an error, fix it.**"
   ]
  },
  {
   "cell_type": "code",
   "execution_count": null,
   "metadata": {},
   "outputs": [],
   "source": [
    "price1, price2, price3 = 100,200,30.5  #  200 سه متغیر داریم با سه مقدار که اول پرایس یک مقداردهی میشه با مقدار اول که 100 بعد پرایس دوم با \n",
    "score1 = score2 = 18.9                 #ینجا درست کارمیکند اول اسکور یک مقداردهی شده بعد اسکور یک داخل اسکوردوم قرار میگیر\n",
    "str1, str2, str3 = 'python', 'java'    #اینجا خطا میگیرد چون سه متغیر داریم ولی دومقدار\n",
    "\n",
    "str1,str2,str3 = 'python' , 'java' , 'c++'  #دستور بالا رفع خطاشد\n",
    "#str3 راه حل بعدی برای رفع خطا این است که متغیر سوم را پاک کنیم یعنی \n",
    "\n",
    "\n",
    "\n"
   ]
  },
  {
   "cell_type": "code",
   "execution_count": null,
   "metadata": {},
   "outputs": [],
   "source": []
  }
 ],
 "metadata": {
  "kernelspec": {
   "display_name": "Python 3",
   "language": "python",
   "name": "python3"
  },
  "language_info": {
   "codemirror_mode": {
    "name": "ipython",
    "version": 3
   },
   "file_extension": ".py",
   "mimetype": "text/x-python",
   "name": "python",
   "nbconvert_exporter": "python",
   "pygments_lexer": "ipython3",
   "version": "3.11.4"
  }
 },
 "nbformat": 4,
 "nbformat_minor": 2
}
