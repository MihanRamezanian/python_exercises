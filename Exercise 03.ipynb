{
 "cells": [
  {
   "cell_type": "markdown",
   "id": "50bcbbb3",
   "metadata": {},
   "source": [
    "<img src=\"logo.png\" alt=\"Virak logo\" style=\"float:center; width:350px; margin-left:200px;\">"
   ]
  },
  {
   "cell_type": "markdown",
   "id": "cd5c2700",
   "metadata": {},
   "source": [
    "## **Exercise 03: Condition**\n",
    "### <span style=\"color:#FF4C29; font-weight:bold\">Question01</span>\n",
    " **Write a program that takes two stribgs from the user. The program should do the following:**\n",
    "- If the second string exists within the first string, remove it from the first string.\n",
    "- Otherwise, add the second string to both the beginning and the end of the first string. "
   ]
  },
  {
   "cell_type": "code",
   "execution_count": 1,
   "id": "cb3f6398",
   "metadata": {},
   "outputs": [
    {
     "name": "stdout",
     "output_type": "stream",
     "text": [
      "after removing str1 is: adef\n"
     ]
    }
   ],
   "source": [
    "str1 = input(\"enter the first string:\") #دورشته رااز کاربر دریافت میکند\n",
    "str2 = input(\"enter the second string:\")\n",
    "\n",
    "if str2 in str1:#رشته دوم رادر اولی جست وجوکرده in عملگر\n",
    "    #پاک کرده replaceتا انتهای رشته دوم دررشته اول پیش رفته ورشته دوم را با متد lenاندیس شروع رشته دوم رادررشته اول پیداکرده و با تابعindexبا متد \n",
    "   \n",
    "    str1 = str1.replace(str2,\"\")\n",
    "    print(f'after removing str1 is: {str1}')\n",
    "\n",
    "    #  میکندconcateشرط عضویت برقرار نباشد با عملگر+رشته دوم را به ابتدا و انتها رشته دوم \n",
    "else:\n",
    "    str1 = str2 + str1 + str2  #or str2 + \" \" + str1 + \" \" + str2\n",
    "    print(f'after concatenating str1 is: {str1}')"
   ]
  },
  {
   "cell_type": "markdown",
   "id": "05be3f2f",
   "metadata": {},
   "source": [
    "### <span style=\"color:#FF4C29; font-weight:bold\">Question02</span>\n",
    " **Write a program that receives the base salary of an employee and calculates the salary after tax deducation. The program should perform the following:**\n",
    " - If the salary is less than 3000, it is tax-exempt.\n",
    " - If the salary is between 3000 and 5000, apply a 10% tax.\n",
    " - If the salary is between 5000 and 8000, apply a 15% tax.\n",
    " - If the salary is more than 8000, apply a 20% tax.\n",
    " \n",
    "**the program should display the net salary after applying the appropriate tax.**\n"
   ]
  },
  {
   "cell_type": "code",
   "execution_count": 2,
   "id": "8408d35c",
   "metadata": {},
   "outputs": [
    {
     "name": "stdout",
     "output_type": "stream",
     "text": [
      "the salary after tax deduction (10%) is: 3600.0\n"
     ]
    }
   ],
   "source": [
    "#پایه حقوق راازکاربر میگیرد وبا توجه به شروط چک میکند مقدار حقوق بعد ازمالیات\n",
    "base_salary = float(input('enter your salary:'))\n",
    "\n",
    "if base_salary < 3000:\n",
    "    print(f'this {base_salary} is tax-exempt.the final salary is: {base_salary}')\n",
    "\n",
    "elif base_salary < 5000:\n",
    "    print(f'the salary after tax deduction (10%) is: {base_salary * (90 / 100)}')\n",
    "    # result = 10/100 * base_salary ----> final_salary = base_salary - result.\n",
    "\n",
    "elif base_salary < 8000:\n",
    "    print(f'the salary after tax deduction (15%) is: {base_salary * (85 /100)}')\n",
    "\n",
    "else:\n",
    "    print(f'the salary after tax deduction (20%) is: {base_salary * (80 / 100)}')\n"
   ]
  },
  {
   "cell_type": "code",
   "execution_count": null,
   "id": "2400346b",
   "metadata": {},
   "outputs": [],
   "source": []
  }
 ],
 "metadata": {
  "kernelspec": {
   "display_name": "Python 3",
   "language": "python",
   "name": "python3"
  },
  "language_info": {
   "codemirror_mode": {
    "name": "ipython",
    "version": 3
   },
   "file_extension": ".py",
   "mimetype": "text/x-python",
   "name": "python",
   "nbconvert_exporter": "python",
   "pygments_lexer": "ipython3",
   "version": "3.11.4"
  }
 },
 "nbformat": 4,
 "nbformat_minor": 5
}
