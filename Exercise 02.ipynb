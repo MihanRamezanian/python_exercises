{
 "cells": [
  {
   "cell_type": "markdown",
   "id": "a5d47794",
   "metadata": {},
   "source": [
    "<img src=\"logo.png\" alt=\"Virak logo\" style=\"float:center; width:350px; margin-left:200px;\">"
   ]
  },
  {
   "cell_type": "markdown",
   "id": "fa5470fe",
   "metadata": {},
   "source": [
    "### **Exercise 02: String**\n",
    "### <span style=\"color:#FF4C29; font-weight:bold\">Question01</span>\n",
    "**Write a python program that:**\n",
    "- Takes a string as input from the user.\n",
    "= Displays the first, last, and middle character of the string. (If the string length is even, display either of the middle characters.)\n",
    "- Displays the lenght of the string.\n",
    "- Displays the characters from the string that are at even indexes (index 0,2,4, etc..).\n",
    "- Displays the string in revers.\n",
    "- Displays the first half and the second half of the string"
   ]
  },
  {
   "cell_type": "code",
   "execution_count": null,
   "id": "f6f384f9",
   "metadata": {},
   "outputs": [],
   "source": [
    "str1 = input(\"enter string:\")\n",
    "print(str1[0])\n",
    "print(str1[-1])\n",
    "print(str1[len(str1)//2]) \n",
    "print(str1[len(str1)//2 -1])\n",
    "print(len(str1))\n",
    "print(str1[::2])\n",
    "print(str1[::-1])\n",
    "\n",
    "len_str1 = len(str1)//2\n",
    "print(len_str1)\n",
    "print(str1[:len_str1])\n",
    "print(str1[len_str1:])\n",
    "\n"
   ]
  },
  {
   "cell_type": "markdown",
   "id": "fd7d1220",
   "metadata": {},
   "source": [
    "### <span style=\"color:#FF4C29; font-weight:bold\">Question02</span>\n",
    " **Write a Python program that takes a student ID from the user. If the ID is entirely a number, display True. Otherwise, display Flase**"
   ]
  },
  {
   "cell_type": "code",
   "execution_count": 2,
   "id": "9f7001f2",
   "metadata": {},
   "outputs": [
    {
     "name": "stdout",
     "output_type": "stream",
     "text": [
      "the result is: False\n"
     ]
    }
   ],
   "source": [
    "id_student = input(\"enter your id:\")\n",
    "result = id_student.isdigit()\n",
    "print(f'the result is: {result}')"
   ]
  },
  {
   "cell_type": "markdown",
   "id": "8eefb495",
   "metadata": {},
   "source": [
    "### <span style=\"color:#FF4C29; font-weight:bold\">Question03</span>\n",
    " **Write a Python program that takes a string as input from the user and removes all spaces from it, including the spaces at the beginning, end, and within the string.** "
   ]
  },
  {
   "cell_type": "code",
   "execution_count": null,
   "id": "afea10e5",
   "metadata": {},
   "outputs": [],
   "source": [
    "str2 = input(\"enter a string:\")\n",
    "print(str2)\n",
    "str2 = str2.replace(\" \",\"\")\n",
    "print(str2)\n"
   ]
  },
  {
   "cell_type": "markdown",
   "id": "efc873c6",
   "metadata": {},
   "source": [
    "### <span style=\"color:#FF4C29; font-weight:bold\">Question04</span>\n",
    "**Find two new methods for strings in Python that were not covered in class. Write an example to demonstrate their usage.**"
   ]
  },
  {
   "cell_type": "code",
   "execution_count": null,
   "id": "873b6d88",
   "metadata": {},
   "outputs": [],
   "source": [
    "#Method one is \n",
    "text1 = '100'\n",
    "print(text1.isdigit())  #این متد میگه ایا همه کاراکترهای رشته عدد هستند\n",
    "\n",
    "text2 = 'abcd'\n",
    "print(text2.isalpha())  #این میگه آیا کاراکترهای رشته حروف  هستند"
   ]
  }
 ],
 "metadata": {
  "kernelspec": {
   "display_name": "Python 3",
   "language": "python",
   "name": "python3"
  },
  "language_info": {
   "codemirror_mode": {
    "name": "ipython",
    "version": 3
   },
   "file_extension": ".py",
   "mimetype": "text/x-python",
   "name": "python",
   "nbconvert_exporter": "python",
   "pygments_lexer": "ipython3",
   "version": "3.11.4"
  }
 },
 "nbformat": 4,
 "nbformat_minor": 5
}
